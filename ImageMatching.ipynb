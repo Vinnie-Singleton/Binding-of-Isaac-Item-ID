{
 "cells": [
  {
   "cell_type": "code",
   "execution_count": 1,
   "metadata": {
    "executionInfo": {
     "elapsed": 128,
     "status": "ok",
     "timestamp": 1628533852602,
     "user": {
      "displayName": "Vincent Singleton",
      "photoUrl": "",
      "userId": "10734325857087454082"
     },
     "user_tz": 240
    },
    "id": "Og4a7bmhoA4H"
   },
   "outputs": [],
   "source": [
    "import cv2\n",
    "import os\n",
    "import numpy as np\n",
    "import math\n",
    "from google.colab.patches import cv2_imshow\n",
    "from IPython.core.display import display, HTML\n",
    "import json\n",
    "import traceback"
   ]
  },
  {
   "cell_type": "code",
   "execution_count": 2,
   "metadata": {
    "executionInfo": {
     "elapsed": 4,
     "status": "ok",
     "timestamp": 1628533852985,
     "user": {
      "displayName": "Vincent Singleton",
      "photoUrl": "",
      "userId": "10734325857087454082"
     },
     "user_tz": 240
    },
    "id": "WTamL2hEqaJ3"
   },
   "outputs": [],
   "source": [
    "orb = cv2.ORB_create(nfeatures=1500,scoreType=cv2.ORB_FAST_SCORE)\n",
    "bf = cv2.BFMatcher(cv2.NORM_HAMMING, crossCheck=True)"
   ]
  },
  {
   "cell_type": "code",
   "execution_count": 3,
   "metadata": {
    "executionInfo": {
     "elapsed": 110,
     "status": "ok",
     "timestamp": 1628533853731,
     "user": {
      "displayName": "Vincent Singleton",
      "photoUrl": "",
      "userId": "10734325857087454082"
     },
     "user_tz": 240
    },
    "id": "Wh3J677ErxLR"
   },
   "outputs": [],
   "source": [
    "with open('/content/drive/MyDrive/IsaacItemID/ItemDictionary.json', 'r') as fp:\n",
    "    itemDict = json.load(fp)"
   ]
  },
  {
   "cell_type": "code",
   "execution_count": 4,
   "metadata": {
    "executionInfo": {
     "elapsed": 647,
     "status": "ok",
     "timestamp": 1628533854711,
     "user": {
      "displayName": "Vincent Singleton",
      "photoUrl": "",
      "userId": "10734325857087454082"
     },
     "user_tz": 240
    },
    "id": "n4sZ8JU8-iVf"
   },
   "outputs": [],
   "source": [
    "with open('/content/drive/MyDrive/IsaacItemID/ItemFeatures.json', 'r') as fp:\n",
    "    imageDict = json.load(fp)"
   ]
  },
  {
   "cell_type": "code",
   "execution_count": 6,
   "metadata": {
    "executionInfo": {
     "elapsed": 122,
     "status": "ok",
     "timestamp": 1628533856513,
     "user": {
      "displayName": "Vincent Singleton",
      "photoUrl": "",
      "userId": "10734325857087454082"
     },
     "user_tz": 240
    },
    "id": "_o7_ZKsw-nwM"
   },
   "outputs": [],
   "source": [
    "def getSimilarImages(imageToFindPath,imageDict,topN_features=10):\n",
    "\n",
    "    imageToFind = cv2.imread(imageToFindPath,cv2.IMREAD_GRAYSCALE)\n",
    "    kp, des = orb.detectAndCompute(imageToFind,None)\n",
    "\n",
    "    similarityDict = {}\n",
    "\n",
    "    for item in imageDict:\n",
    "        if imageDict[item]['des']:\n",
    "            itemDesc = np.array(imageDict[item]['des'],dtype='uint8')\n",
    "            # print(type(itemDesc),type(des))\n",
    "            matches = bf.match(itemDesc, des)\n",
    "\n",
    "            topN = topN_features\n",
    "            matches = sorted(matches, key = lambda x:x.distance)\n",
    "      \n",
    "            matches = matches[:topN]\n",
    "\n",
    "            list_kp = []\n",
    "            # For each match...\n",
    "            for mat in matches:\n",
    "                # Get the matching keypoints for the image\n",
    "                img_idx = mat.trainIdx\n",
    "                # Get the coordinates\n",
    "                (x, y) = kp[img_idx].pt\n",
    "                # Append to each list\n",
    "                list_kp.append((x, y))\n",
    "\n",
    "            # compute the average x,y point for the top n distances\n",
    "            totalXPixel = 0\n",
    "            totalYPixel = 0\n",
    "\n",
    "            for point in list_kp:\n",
    "                totalXPixel += point[0]\n",
    "                totalYPixel += point[1]\n",
    "\n",
    "            avgXPixelDistance = totalXPixel / len(list_kp)\n",
    "            avgYPixelDistance = totalYPixel / len(list_kp)\n",
    "\n",
    "            distances = []\n",
    "\n",
    "            for p in list_kp:\n",
    "                # compute the average distance from a point to the avg point\n",
    "                a2 = (p[0] - avgXPixelDistance)**2\n",
    "                b2 = (p[1] - avgYPixelDistance)**2\n",
    "                distance = math.sqrt(a2+b2)\n",
    "                distances.append(distance)\n",
    "\n",
    "            mean = sum(distances) / len(distances)\n",
    "            # print('Mean',mean)\n",
    "            res = sum((k - mean) ** 2 for k in distances) / len(distances)\n",
    "            # print('Variance',res)\n",
    "\n",
    "            similarityDict[item] = {'Mean':mean,'Variance':res,'Matches':matches}\n",
    "    return similarityDict\n"
   ]
  },
  {
   "cell_type": "code",
   "execution_count": 7,
   "metadata": {
    "executionInfo": {
     "elapsed": 119,
     "status": "ok",
     "timestamp": 1628533857831,
     "user": {
      "displayName": "Vincent Singleton",
      "photoUrl": "",
      "userId": "10734325857087454082"
     },
     "user_tz": 240
    },
    "id": "b-0Br0tGoic3"
   },
   "outputs": [],
   "source": [
    "def displayImageComparison(items,image):\n",
    "    # input image\n",
    "    image = cv2.imread(image,cv2.IMREAD_GRAYSCALE)\n",
    "    for item in items:\n",
    "        path = imageDict[item]['imgPath']\n",
    "        # stored icon\n",
    "        img = cv2.imread(path,cv2.IMREAD_GRAYSCALE)\n",
    "        img = cv2.resize(img,(128,128))\n",
    "\n",
    "        # icon data\n",
    "        kp1, des1 = orb.detectAndCompute(img,None)\n",
    "        kp2, des2 = orb.detectAndCompute(image,None)\n",
    "\n",
    "        matches = bf.match(des1, des2)\n",
    "        topN = 10\n",
    "        matches = sorted(matches, key = lambda x:x.distance)\n",
    "        matches = matches[:topN]\n",
    "\n",
    "        matching_result = cv2.drawMatches(img,kp1,image,kp2,matches,None)\n",
    "        cv2_imshow(matching_result)"
   ]
  },
  {
   "cell_type": "code",
   "execution_count": 8,
   "metadata": {
    "executionInfo": {
     "elapsed": 110,
     "status": "ok",
     "timestamp": 1628533859289,
     "user": {
      "displayName": "Vincent Singleton",
      "photoUrl": "",
      "userId": "10734325857087454082"
     },
     "user_tz": 240
    },
    "id": "Rcdv0FK3-y2z"
   },
   "outputs": [],
   "source": [
    "def findItem(path,topN=5,topN_features=10,show_found_images=True,display_comparison_data=False,display_stats=False):\n",
    "    similarImagesDictionary = getSimilarImages(path,imageDict,topN_features=topN_features)\n",
    "    itemOrder = sorted(similarImagesDictionary,key=lambda x:similarImagesDictionary[x]['Variance'])\n",
    "\n",
    "    for itemName in itemOrder[:topN]:\n",
    "        imgPath = itemDict[itemName]['ImagePath']\n",
    "        image = cv2.imread(imgPath,cv2.IMREAD_GRAYSCALE)\n",
    "        image = cv2.cvtColor(image,cv2.COLOR_GRAY2RGB)\n",
    "        image = cv2.resize(image,(128,128))\n",
    "        if show_found_images:\n",
    "            cv2_imshow(image)\n",
    "        print('Item:',itemName)\n",
    "        print('Effects:')\n",
    "        print(display(HTML(itemDict[itemName]['Effects'])))\n",
    "  \n",
    "    if display_comparison_data:\n",
    "        displayImageComparison(itemOrder[:topN],path)"
   ]
  }
 ],
 "metadata": {
  "colab": {
   "authorship_tag": "ABX9TyMKU8OQVKzBa4JVl2Ykp2hS",
   "collapsed_sections": [],
   "mount_file_id": "1WR6Y0cvK10S1qIgBp_d6Xh902C-vacDx",
   "name": "ImageMatching.ipynb",
   "provenance": []
  },
  "kernelspec": {
   "display_name": "Python 3",
   "language": "python",
   "name": "python3"
  },
  "language_info": {
   "codemirror_mode": {
    "name": "ipython",
    "version": 3
   },
   "file_extension": ".py",
   "mimetype": "text/x-python",
   "name": "python",
   "nbconvert_exporter": "python",
   "pygments_lexer": "ipython3",
   "version": "3.8.6"
  }
 },
 "nbformat": 4,
 "nbformat_minor": 1
}
