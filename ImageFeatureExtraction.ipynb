{
 "cells": [
  {
   "cell_type": "code",
   "execution_count": 1,
   "metadata": {
    "executionInfo": {
     "elapsed": 830,
     "status": "ok",
     "timestamp": 1628025151246,
     "user": {
      "displayName": "Vincent Singleton",
      "photoUrl": "",
      "userId": "10734325857087454082"
     },
     "user_tz": 240
    },
    "id": "XhJ_fD6sqxOK"
   },
   "outputs": [],
   "source": [
    "import cv2\n",
    "import numpy as np\n",
    "import os\n",
    "import json\n",
    "from google.colab.patches import cv2_imshow"
   ]
  },
  {
   "cell_type": "code",
   "execution_count": null,
   "metadata": {
    "colab": {
     "base_uri": "https://localhost:8080/"
    },
    "executionInfo": {
     "elapsed": 119231,
     "status": "ok",
     "timestamp": 1628025272765,
     "user": {
      "displayName": "Vincent Singleton",
      "photoUrl": "",
      "userId": "10734325857087454082"
     },
     "user_tz": 240
    },
    "id": "CtHvoAwJq9MJ",
    "outputId": "405bc49a-0700-4b8b-8dc0-c505d951fee5"
   },
   "outputs": [],
   "source": [
    "basePath = '/content/drive/MyDrive/IsaacItemID/Icons/'\n",
    "\n",
    "# get a list of all item images\n",
    "itemList = os.listdir(basePath)\n",
    "\n",
    "imageFeatures = {}\n",
    "\n",
    "orb = cv2.ORB_create(nfeatures=1500,scoreType=cv2.ORB_FAST_SCORE)\n",
    "# for ever image\n",
    "for count,item in enumerate(itemList):\n",
    "    # load the image\n",
    "    imgPath = basePath + item\n",
    "    img = cv2.imread(imgPath,cv2.IMREAD_GRAYSCALE)\n",
    "    img = cv2.resize(img,(128,128))\n",
    "    # create the description\n",
    "    kp, des = orb.detectAndCompute(img,None)\n",
    "    itemName = imgPath.split('/')[-1].replace('.png','')\n",
    "    \n",
    "    try:\n",
    "        des = des.tolist()\n",
    "    except:\n",
    "        print(des,item)\n",
    "    \n",
    "    # store the image features in the dictionary\n",
    "    imageFeatures[itemName] = {'des':des,'imgPath':imgPath}\n",
    "    kp_info = []\n",
    "    # extract the kp info so it can be stored via JSON\n",
    "    for k in kp:\n",
    "        kp_info.append([k.class_id,\n",
    "                        k.pt,\n",
    "                        k.size,\n",
    "                        k.angle,\n",
    "                        k.octave,\n",
    "                        k.response])\n",
    "    imageFeatures[itemName]['kp_info'] = kp_info\n",
    "    if count%100 == 0:\n",
    "        print(count/len(itemList),'% complete')"
   ]
  },
  {
   "cell_type": "code",
   "execution_count": 8,
   "metadata": {
    "executionInfo": {
     "elapsed": 3014,
     "status": "ok",
     "timestamp": 1628025397023,
     "user": {
      "displayName": "Vincent Singleton",
      "photoUrl": "",
      "userId": "10734325857087454082"
     },
     "user_tz": 240
    },
    "id": "NBry6fqesJLf"
   },
   "outputs": [],
   "source": [
    "# save the features\n",
    "with open('/content/drive/MyDrive/IsaacItemID/ItemFeatures.json', 'w') as fp:\n",
    "    json.dump(imageFeatures, fp)"
   ]
  }
 ],
 "metadata": {
  "colab": {
   "authorship_tag": "ABX9TyM/hyp2fb60tpjTyXRmI6o2",
   "collapsed_sections": [],
   "mount_file_id": "1iFEfVeT-1GFU8tvyidVzZhMtByouQIIf",
   "name": "ImageFeatureExtraction.ipynb",
   "provenance": []
  },
  "kernelspec": {
   "display_name": "Python 3",
   "language": "python",
   "name": "python3"
  },
  "language_info": {
   "codemirror_mode": {
    "name": "ipython",
    "version": 3
   },
   "file_extension": ".py",
   "mimetype": "text/x-python",
   "name": "python",
   "nbconvert_exporter": "python",
   "pygments_lexer": "ipython3",
   "version": "3.8.6"
  }
 },
 "nbformat": 4,
 "nbformat_minor": 1
}
