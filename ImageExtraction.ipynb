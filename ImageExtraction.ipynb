{
 "cells": [
  {
   "cell_type": "code",
   "execution_count": null,
   "metadata": {
    "id": "aL3jwMC6u7xw"
   },
   "outputs": [],
   "source": [
    "from bs4 import BeautifulSoup as bs\n",
    "import requests\n",
    "from IPython.core.display import display, HTML\n",
    "import re\n",
    "import json"
   ]
  },
  {
   "cell_type": "code",
   "execution_count": null,
   "metadata": {
    "id": "6J7lJmkKvFQS"
   },
   "outputs": [],
   "source": [
    "baseSite = 'https://bindingofisaacrebirth.fandom.com'\n",
    "itemsPage = 'https://bindingofisaacrebirth.fandom.com/wiki/Items'"
   ]
  },
  {
   "cell_type": "code",
   "execution_count": null,
   "metadata": {
    "id": "8V5CmLsdvoaS"
   },
   "outputs": [],
   "source": [
    "page = requests.get(itemsPage)"
   ]
  },
  {
   "cell_type": "code",
   "execution_count": null,
   "metadata": {
    "id": "wYccCFybvs-u"
   },
   "outputs": [],
   "source": [
    "soup = bs(page.content, 'html.parser')"
   ]
  },
  {
   "cell_type": "code",
   "execution_count": null,
   "metadata": {
    "id": "Yyne_-B0wOZ6"
   },
   "outputs": [],
   "source": [
    "pageLinks = set()\n",
    "\n",
    "for a in soup.find_all('a', href=True):\n",
    "    if a['href'].startswith('/wiki/'):\n",
    "        pageLinks.add((baseSite+a['href']))"
   ]
  },
  {
   "cell_type": "code",
   "execution_count": null,
   "metadata": {
    "colab": {
     "base_uri": "https://localhost:8080/"
    },
    "executionInfo": {
     "elapsed": 120,
     "status": "ok",
     "timestamp": 1628002516781,
     "user": {
      "displayName": "Vincent Singleton",
      "photoUrl": "",
      "userId": "10734325857087454082"
     },
     "user_tz": 240
    },
    "id": "mt0Q5PVQgtxp",
    "outputId": "bf035c4e-3a3e-41f0-c657-c3fa37958066"
   },
   "outputs": [
    {
     "name": "stdout",
     "output_type": "stream",
     "text": [
      "994\n"
     ]
    }
   ],
   "source": [
    "print(len(pageLinks))"
   ]
  },
  {
   "cell_type": "code",
   "execution_count": null,
   "metadata": {
    "id": "j4VwF-QVANLi"
   },
   "outputs": [],
   "source": [
    "infoDict = {}\n",
    "baseImagePath = '/content/drive/MyDrive/IsaacItemID/Icons/'\n",
    "count = 0 \n",
    "# for each item description page\n",
    "for page in pageLinks:\n",
    "\n",
    "    # get the page\n",
    "    p = requests.get(page)\n",
    "    soup = bs(p.content, 'html.parser')\n",
    "    count += 1\n",
    "    # get the name of the item\n",
    "    itemName = page.split('/')[-1]\n",
    "    # get the image\n",
    "    for img in soup.find_all('img'):\n",
    "        try:\n",
    "            if itemName in img['data-src'] and '128' in img['data-src']:\n",
    "                if itemName not in infoDict:\n",
    "                    print(itemName)\n",
    "                    effects = str(soup.find(id='Effects').parent.find_next('ul'))\n",
    "          \n",
    "                # get the effects of the item\n",
    "                    for link in re.findall('(\"/wiki/.{1,20}\" )',effects):\n",
    "                        newLink = '\"'+baseSite+link[1:]\n",
    "                        effects = effects.replace(link,newLink)\n",
    "\n",
    "                    # set the file name of the image\n",
    "                    fileName = itemName+'.png'\n",
    "\n",
    "                    # set up the full path to the image\n",
    "                    fullPath = baseImagePath+fileName\n",
    "\n",
    "                    # get the image\n",
    "                    image_url = img['data-src']\n",
    "                    img_data = requests.get(image_url).content\n",
    "          \n",
    "                    # save the image\n",
    "                    with open(fullPath, 'wb') as handler:\n",
    "                        handler.write(img_data)\n",
    "\n",
    "                    infoDict[itemName] = {'Effects':effects,'ImagePath':fullPath}\n",
    "                    if count%25 == 0:\n",
    "                        print('---------------------------------------------------')\n",
    "                        print(count,'/',len(pageLinks),(count/len(pageLinks)*100),'% complete')\n",
    "                        print('---------------------------------------------------')\n",
    "        \n",
    "        except:\n",
    "            pass"
   ]
  },
  {
   "cell_type": "code",
   "execution_count": null,
   "metadata": {
    "colab": {
     "base_uri": "https://localhost:8080/",
     "height": 35
    },
    "executionInfo": {
     "elapsed": 109,
     "status": "ok",
     "timestamp": 1628004287777,
     "user": {
      "displayName": "Vincent Singleton",
      "photoUrl": "",
      "userId": "10734325857087454082"
     },
     "user_tz": 240
    },
    "id": "jT4GZKjjnLUU",
    "outputId": "2010a76e-17d4-4b7c-da75-060c5c4d528c"
   },
   "outputs": [
    {
     "data": {
      "application/vnd.google.colaboratory.intrinsic+json": {
       "type": "string"
      },
      "text/plain": [
       "'/content/drive/MyDrive/IsaacItemID/Icons/Hushy.png'"
      ]
     },
     "execution_count": 19,
     "metadata": {
      "tags": []
     },
     "output_type": "execute_result"
    }
   ],
   "source": [
    "infoDict['Hushy']['ImagePath']"
   ]
  },
  {
   "cell_type": "code",
   "execution_count": null,
   "metadata": {
    "id": "0NshbKiusRv8"
   },
   "outputs": [],
   "source": [
    "# save json\n",
    "\n",
    "with open('/content/drive/MyDrive/IsaacItemID/ItemDictionary.json', 'w') as fp:\n",
    "    json.dump(infoDict, fp)"
   ]
  }
 ],
 "metadata": {
  "colab": {
   "authorship_tag": "ABX9TyO8yAAJX2CPxULieOZyt7qf",
   "collapsed_sections": [],
   "mount_file_id": "1ooGPlQvd36KCGAvfkLAMx8rDU2IdvXAK",
   "name": "ImageExtraction.ipynb",
   "provenance": []
  },
  "kernelspec": {
   "display_name": "Python 3",
   "language": "python",
   "name": "python3"
  },
  "language_info": {
   "codemirror_mode": {
    "name": "ipython",
    "version": 3
   },
   "file_extension": ".py",
   "mimetype": "text/x-python",
   "name": "python",
   "nbconvert_exporter": "python",
   "pygments_lexer": "ipython3",
   "version": "3.8.6"
  }
 },
 "nbformat": 4,
 "nbformat_minor": 1
}
